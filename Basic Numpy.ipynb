{
 "cells": [
  {
   "cell_type": "code",
   "execution_count": 34,
   "metadata": {},
   "outputs": [
    {
     "name": "stdout",
     "output_type": "stream",
     "text": [
      "[1 2 3 4 5]\n",
      "(5,)\n",
      "1\n",
      "[[1 2 3]\n",
      " [4 5 6]]\n",
      "(2, 3)\n",
      "2\n"
     ]
    },
    {
     "data": {
      "text/plain": [
       "'\\n[[1 2 3]\\n [4 5 6]]\\n'"
      ]
     },
     "execution_count": 34,
     "metadata": {},
     "output_type": "execute_result"
    }
   ],
   "source": [
    "import numpy as np\n",
    "\n",
    "# array 생성하는 법\n",
    "arr = np.array([1,2,3,4,5])\n",
    "print(arr) # [1 2 3 4 5]\n",
    "\n",
    "# array의 모양(행,열)\n",
    "print(arr.shape) # (5,)\n",
    "\n",
    "# array의 차원\n",
    "print(arr.ndim) # 1\n",
    "\n",
    "\n",
    "arr2 = np.array([[1,2,3],[4,5,6]])\n",
    "print(arr2)\n",
    "\"\"\"\n",
    "[[1 2 3]\n",
    " [4 5 6]]\n",
    "\"\"\"\n",
    "\n",
    "print(arr2.shape) # (2, 3)\n",
    "print(arr2.ndim) # 2\n"
   ]
  },
  {
   "cell_type": "code",
   "execution_count": 8,
   "metadata": {},
   "outputs": [
    {
     "name": "stdout",
     "output_type": "stream",
     "text": [
      "[[0. 0. 0. 0. 0. 0.]\n",
      " [0. 0. 0. 0. 0. 0.]\n",
      " [0. 0. 0. 0. 0. 0.]]\n",
      "<class 'numpy.ndarray'>\n",
      "[[1. 1. 1. 1.]\n",
      " [1. 1. 1. 1.]]\n",
      "[[1. 0. 0. 0. 0.]\n",
      " [0. 1. 0. 0. 0.]\n",
      " [0. 0. 1. 0. 0.]\n",
      " [0. 0. 0. 1. 0.]\n",
      " [0. 0. 0. 0. 1.]]\n",
      "<class 'numpy.ndarray'>\n"
     ]
    },
    {
     "data": {
      "text/plain": [
       "'\\n[[1. 0. 0. 0. 0.]\\n [0. 1. 0. 0. 0.]\\n [0. 0. 1. 0. 0.]\\n [0. 0. 0. 1. 0.]\\n [0. 0. 0. 0. 1.]]\\n'"
      ]
     },
     "execution_count": 8,
     "metadata": {},
     "output_type": "execute_result"
    }
   ],
   "source": [
    "import numpy as np\n",
    "\n",
    "# zeros : parameter에 행과 열 수 만큼 0값들을 가진 행렬을 만든다\n",
    "\n",
    "arr_0 = np.zeros((3,6)) # (row,column)\n",
    "print(arr_0)\n",
    "print(type(arr_0)) # <class 'numpy.ndarray'>\n",
    "\n",
    "\"\"\"\n",
    "[[0. 0. 0. 0. 0. 0.]\n",
    " [0. 0. 0. 0. 0. 0.]\n",
    " [0. 0. 0. 0. 0. 0.]]\n",
    "\"\"\"\n",
    "\n",
    "# parameter에 행과 열 수 만큼 1값들을 가진 행렬을 만든다\n",
    "\n",
    "arr_1 = np.ones((2,4)) # (row,column)\n",
    "print(arr_1)\n",
    "\n",
    "\"\"\"\n",
    "[[1. 1. 1. 1.]\n",
    " [1. 1. 1. 1.]]\n",
    "\"\"\"\n",
    "\n",
    "# eye : 단위행렬을 만드는 함수이다. parameter값은 행렬 사이즈이다\n",
    "arr_eye = np.eye(5)\n",
    "print(arr_eye)\n",
    "print(type(arr_eye))# <class 'numpy.ndarray'>\n",
    "\n",
    "\"\"\"\n",
    "[[1. 0. 0. 0. 0.]\n",
    " [0. 1. 0. 0. 0.]\n",
    " [0. 0. 1. 0. 0.]\n",
    " [0. 0. 0. 1. 0.]\n",
    " [0. 0. 0. 0. 1.]]\n",
    "\"\"\""
   ]
  },
  {
   "cell_type": "code",
   "execution_count": 14,
   "metadata": {},
   "outputs": [
    {
     "name": "stdout",
     "output_type": "stream",
     "text": [
      "[1 2 3 4 5 6 7 8 9]\n",
      "[[1 2 3]\n",
      " [4 5 6]\n",
      " [7 8 9]]\n",
      "[1 2 3 4 5 6 7 8 9]\n",
      "[[ 1  2  3  4]\n",
      " [ 5  6  7  8]\n",
      " [ 9 10 11 12]\n",
      " [13 14 15 16]]\n"
     ]
    }
   ],
   "source": [
    "import numpy as np\n",
    "\n",
    "# arange : parameter의 범위만큼의 1차원 array를 만드는 함수, 끝값은 포함을 하지 않는다\n",
    "arr = np.arange(1,10)\n",
    "print(arr) # [1 2 3 4 5 6 7 8 9]\n",
    "\n",
    "# reshape : array의 형태를 바꿔주는 함수 (row,column) 형태로 바뀜\n",
    "\n",
    "new_arr = arr.reshape(3,3)\n",
    "print(new_arr)\n",
    "\"\"\"\n",
    "[[1 2 3]\n",
    " [4 5 6]\n",
    " [7 8 9]]\n",
    "\"\"\"\n",
    "\n",
    "# reshape를 한 뒤, 새로운 변수에 저장해야합니다.\n",
    "\n",
    "arr.reshape(9,1)\n",
    "print(arr) # [1 2 3 4 5 6 7 8 9]\n",
    "\n",
    "# 한줄로도 표현이 가능합니다. 이 형태를 더 많이 사용합니다.\n",
    "arr2 = np.arange(1,17).reshape(4,4)\n",
    "print(arr2)\n",
    "\"\"\"\n",
    "[[ 1  2  3  4]\n",
    " [ 5  6  7  8]\n",
    " [ 9 10 11 12]\n",
    " [13 14 15 16]]\n",
    "\"\"\""
   ]
  },
  {
   "cell_type": "code",
   "execution_count": 22,
   "metadata": {},
   "outputs": [
    {
     "name": "stdout",
     "output_type": "stream",
     "text": [
      "[[0.89681002 0.97670612 0.27071329 0.0387956 ]\n",
      " [0.08197438 0.14312617 0.64063006 0.7845682 ]]\n",
      "[[4.06847648 5.38881896 5.21933161]\n",
      " [5.06571547 4.06553346 5.41902749]\n",
      " [3.04700793 4.10051634 4.8183994 ]]\n",
      "[[1 3]\n",
      " [8 8]\n",
      " [4 3]\n",
      " [8 5]]\n",
      "[[-5  3  0]\n",
      " [ 0 -4 -5]\n",
      " [ 1  1 -3]\n",
      " [ 4  0  1]\n",
      " [ 1 -4 -5]\n",
      " [-5  0  4]\n",
      " [-2 -1 -4]]\n"
     ]
    }
   ],
   "source": [
    "# 0 <= 실수 < 1로 행렬 채우기 : np.random.random(배열의 크기)\n",
    "arr = np.random.random((2,4))\n",
    "print(arr)\n",
    "\"\"\"\n",
    "[[0.54803379 0.77835502 0.70255043 0.16068691]\n",
    " [0.65812631 0.79997614 0.09721328 0.45088333]]\n",
    "\"\"\"\n",
    "\n",
    "# a <= 실수 < b로 행렬 채우기 : np.random.uniform(a,b, 배열의 크기)\n",
    "arr1 = np.random.uniform(3, 5.5,(3,3))\n",
    "print(arr1)\n",
    "\"\"\"\n",
    "[[4.42427523 4.23330886 4.85055266]\n",
    " [5.19868744 3.04569855 5.3735318 ]\n",
    " [4.23635241 3.82002581 5.28032314]]\n",
    "\"\"\"\n",
    "\n",
    "# a <= 정수 < b로 행렬 채우기 : np.random.randint(a,b, 배열의 크기)\n",
    "arr2 = np.random.randint(1,10,(4,2))\n",
    "print(arr2)\n",
    "\"\"\"\n",
    "[[2 2]\n",
    " [9 4]\n",
    " [6 2]\n",
    " [7 1]]\n",
    "\"\"\""
   ]
  },
  {
   "cell_type": "code",
   "execution_count": 38,
   "metadata": {},
   "outputs": [
    {
     "name": "stdout",
     "output_type": "stream",
     "text": [
      "[ 0.  5. 10. 15.]\n",
      "[[ 0.  5. 10.]\n",
      " [15. 20. 25.]]\n",
      "[[ 1  2  3  4  5]\n",
      " [ 6  7  8  9 10]]\n",
      "[[ 1  6]\n",
      " [ 2  7]\n",
      " [ 3  8]\n",
      " [ 4  9]\n",
      " [ 5 10]]\n",
      "[[ 1  6]\n",
      " [ 2  7]\n",
      " [ 3  8]\n",
      " [ 4  9]\n",
      " [ 5 10]]\n"
     ]
    }
   ],
   "source": [
    "import numpy as np\n",
    "\n",
    "# linspace : 동일 간격으로 등분한 array를 생성하는 함수\n",
    "# np.linspace(시작,끝,숫자개수) *끝도 포함합니다.\n",
    "a = np.linspace(0,15,4)\n",
    "print(a) # [ 0.  5. 10. 15.]\n",
    "\n",
    "b = np.linspace(0,25,6).reshape(2,3)\n",
    "print(b)\n",
    "\"\"\"\n",
    "[[ 0.  5. 10.]\n",
    " [15. 20. 25.]]\n",
    "\"\"\"\n",
    "\n",
    "# Transpose : 행과 열을 교체하는 함수, 전치\n",
    "\n",
    "arr = np.arange(1,11).reshape(2,5)\n",
    "print(arr)\n",
    "\n",
    "\"\"\"\n",
    "[[ 1  2  3  4  5]\n",
    " [ 6  7  8  9 10]]\n",
    "\"\"\"\n",
    "\n",
    "arr = arr.T\n",
    "print(arr)\n",
    "\n",
    "\"\"\"\n",
    "[[ 1  6]\n",
    " [ 2  7]\n",
    " [ 3  8]\n",
    " [ 4  9]\n",
    " [ 5 10]]\n",
    "\n",
    "\"\"\"\n",
    "\n",
    "# 한줄로 작성 가능\n",
    "\n",
    "arr2 = np.arange(1,11).reshape(2,5).T\n",
    "print(arr2)\n",
    "\n",
    "\"\"\"\n",
    "[[ 1  6]\n",
    " [ 2  7]\n",
    " [ 3  8]\n",
    " [ 4  9]\n",
    " [ 5 10]]\n",
    "\"\"\"\n"
   ]
  },
  {
   "cell_type": "code",
   "execution_count": 43,
   "metadata": {},
   "outputs": [
    {
     "name": "stdout",
     "output_type": "stream",
     "text": [
      "[[ 1  2  3  4]\n",
      " [ 5  6  7  8]\n",
      " [ 9 10 11 12]]\n",
      "[[1 2 3 4]\n",
      " [5 6 7 8]]\n",
      "[[ 1  2  3  4]\n",
      " [ 5  6  7  8]\n",
      " [ 9 10 11 12]]\n",
      "[[1 2 3]\n",
      " [5 6 7]]\n"
     ]
    }
   ],
   "source": [
    "# array slicing\n",
    "\n",
    "import numpy as np\n",
    "\n",
    "arr = np.arange(1,13).reshape(3,4)\n",
    "print(arr)\n",
    "\n",
    "\"\"\"\n",
    "[[ 1  2  3  4]\n",
    " [ 5  6  7  8]\n",
    " [ 9 10 11 12]]\n",
    "\"\"\"\n",
    "\n",
    "# arr[0:2] : 0~1 인덱스까지 row slicing\n",
    "print(arr[0:2])\n",
    "\"\"\"\n",
    "[[1 2 3 4]\n",
    " [5 6 7 8]]\n",
    "\"\"\"\n",
    "\n",
    "# 슬라이싱을 해도, 따로 변수에 저장하지 않는 이상, 원본은 변하지 않음\n",
    "print(arr)\n",
    "\"\"\"\n",
    "[[ 1  2  3  4]\n",
    " [ 5  6  7  8]\n",
    " [ 9 10 11 12]]\n",
    "\"\"\"\n",
    "\n",
    "# arr[0:2, 0:3] 행 : 0~1, 열 : 0~2까지 슬라이싱\n",
    "print(arr[0:2,0:3])\n",
    "\n",
    "\"\"\"\n",
    "[[1 2 3]\n",
    " [5 6 7]]\n",
    "\"\"\""
   ]
  },
  {
   "cell_type": "code",
   "execution_count": 45,
   "metadata": {},
   "outputs": [
    {
     "name": "stdout",
     "output_type": "stream",
     "text": [
      "[1, 2, 3, 4, 1, 2, 3, 4, 1, 2, 3, 4]\n",
      "[ 3  6  9 12]\n"
     ]
    }
   ],
   "source": [
    "# Numpy array 연산\n",
    "# 배열화 계산이라고 하며, 원소 하나 하나씩 계산하는 것이 아니라\n",
    "# 배열 단위로 계산을 합니다.\n",
    "# 병렬처리가 가능합니다. (multi-core)\n",
    "\n",
    "# list 연산 vs array연산\n",
    "import numpy as np\n",
    "\n",
    "a = [1,2,3,4]\n",
    "b = a*3\n",
    "print(b) # [1, 2, 3, 4, 1, 2, 3, 4, 1, 2, 3, 4]\n",
    "\n",
    "a = np.arange(1,5)*3\n",
    "print(a) # [ 3  6  9 12]\n",
    "\n"
   ]
  },
  {
   "cell_type": "code",
   "execution_count": 62,
   "metadata": {},
   "outputs": [
    {
     "name": "stdout",
     "output_type": "stream",
     "text": [
      "[1 2 3 4 5]\n",
      "[10. 10. 10. 10. 10.]\n",
      "[False False  True  True  True]\n",
      "[121. 144. 169. 196. 225.]\n",
      "[  2.71828183   7.3890561   20.08553692  54.59815003 148.4131591 ]\n"
     ]
    }
   ],
   "source": [
    "# Numpy는 사칙연산, 논리연산, 비교 연산, 지수,로그함수등\n",
    "# 다양한 연산이 가능합니다.\n",
    "# 지수 Exp, **, \n",
    "# 로그 log()\n",
    "import numpy as np\n",
    "\n",
    "a = np.arange(1,6)\n",
    "b = np.ones((5,))*10\n",
    "print(a) # [1 2 3 4 5]\n",
    "print(b) # [10. 10. 10. 10. 10.]\n",
    "\n",
    "# 논리 연산\n",
    "print(a>2) # [False False  True  True  True]\n",
    "\n",
    "# 지수 연산\n",
    "print((a+b)**2) # [121. 144. 169. 196. 225.]\n",
    "\n",
    "# exp : 자연 상수 e를 밑으로 지수 연산 수행\n",
    "\n",
    "print(np.exp(a)) # [  2.71828183   7.3890561   20.08553692  54.59815003 148.4131591 ]\n"
   ]
  },
  {
   "cell_type": "code",
   "execution_count": 65,
   "metadata": {},
   "outputs": [
    {
     "name": "stdout",
     "output_type": "stream",
     "text": [
      "[[ 1  2  3]\n",
      " [ 4  5  6]\n",
      " [ 7  8  9]\n",
      " [10 11 12]]\n",
      "[0 1 2]\n",
      "[[ 1  3  5]\n",
      " [ 4  6  8]\n",
      " [ 7  9 11]\n",
      " [10 12 14]]\n"
     ]
    }
   ],
   "source": [
    "# 브로드캐스팅(broadcasting)\n",
    "# Broadcasting이란 사전적인 의미론 퍼뜨리다라는 뜻으로, \n",
    "# A라는 행렬과 B라는 연산시, B라는 행렬의 크기가 작다면, B의 행렬의 크기를 늘려주는 것을 의미합니다.\n",
    "\n",
    "arr = np.arange(1,13).reshape(4,3)\n",
    "print(arr)\n",
    "\n",
    "\"\"\"\n",
    "[[ 1  2  3]\n",
    " [ 4  5  6]\n",
    " [ 7  8  9]\n",
    " [10 11 12]]\n",
    "\"\"\"\n",
    "\n",
    "arr2 = np.arange(3,)\n",
    "print(arr2) # [0 1 2]\n",
    "\n",
    "res = arr+arr2\n",
    "print(res)\n",
    "\n",
    "\"\"\"\n",
    "[[ 1  3  5]\n",
    " [ 4  6  8]\n",
    " [ 7  9 11]\n",
    " [10 12 14]]\n",
    "\"\"\""
   ]
  },
  {
   "cell_type": "code",
   "execution_count": 77,
   "metadata": {},
   "outputs": [
    {
     "name": "stdout",
     "output_type": "stream",
     "text": [
      "[[2 5 6]\n",
      " [9 9 2]\n",
      " [7 2 1]\n",
      " [9 8 1]]\n",
      "9\n",
      "9\n",
      "1\n",
      "1\n",
      "8\n",
      "8\n",
      "3\n",
      "3\n"
     ]
    }
   ],
   "source": [
    "# Min, Max, Argmin, Argmax\n",
    "\n",
    "import numpy as np\n",
    "\n",
    "arr = np.random.randint(1,10,(4,3))\n",
    "print(arr)\n",
    "\n",
    "\"\"\"\n",
    "[[2 5 6]\n",
    " [9 9 2]\n",
    " [7 2 1]\n",
    " [9 8 1]]\n",
    "\"\"\"\n",
    "\n",
    "# max : arr에서 가장 큰 값을 출력\n",
    "print(np.max(arr)) # 9\n",
    "print(arr.max()) # 9\n",
    "\n",
    "# min : arr에서 가장 작은 값을 출력\n",
    "print(np.min(arr)) # 1\n",
    "print(arr.min()) # 1\n",
    "\n",
    "# argmin : 최소의 위치를 반환\n",
    "print(np.argmin(arr)) # 8 (인덱스 기준이므로 8번째)\n",
    "print(arr.argmin()) # 8 (인덱스 기준이므로 8번째)\n",
    "\n",
    "# argmax : 최대의 위치를 반환\n",
    "print(np.argmax(arr)) # 3 (인덱스 기준이므로 3번째)\n",
    "print(arr.argmax()) # 3 (인덱스 기준이므로 3번째)\n"
   ]
  },
  {
   "cell_type": "code",
   "execution_count": 80,
   "metadata": {},
   "outputs": [
    {
     "name": "stdout",
     "output_type": "stream",
     "text": [
      "[[ 1  3  5  7  9]\n",
      " [11 13 15 17 19]\n",
      " [21 23 25 27 29]]\n",
      "225\n",
      "225\n",
      "15.0\n",
      "15.0\n",
      "15.0\n"
     ]
    }
   ],
   "source": [
    "# sum , mean, median\n",
    "\n",
    "import numpy as np\n",
    "\n",
    "arr = np.arange(1,31,2).reshape(3,5)\n",
    "print(arr)\n",
    "\"\"\"\n",
    "[[ 1  3  5  7  9]\n",
    " [11 13 15 17 19]\n",
    " [21 23 25 27 29]]\n",
    "\"\"\"\n",
    "\n",
    "# sum : array의 합을 출력해주는 함수\n",
    "print(np.sum(arr)) # 225\n",
    "print(arr.sum()) # 225\n",
    "\n",
    "# mean : array의 평균을 출력해주는 함수\n",
    "print(np.mean(arr)) # 15.0\n",
    "print(arr.mean()) # 15.0\n",
    "\n",
    "# median : array의 중간값을 출력해주는 함수\n",
    "print(np.median(arr)) # 15.0\n",
    "#print(arr.median()) # 동작하지 않음"
   ]
  },
  {
   "cell_type": "code",
   "execution_count": 93,
   "metadata": {},
   "outputs": [
    {
     "name": "stdout",
     "output_type": "stream",
     "text": [
      "[[ 1  3  5  7  9]\n",
      " [11 13 15 17 19]\n",
      " [21 23 25 27 29]]\n",
      "225\n",
      "[33 39 45 51 57]\n",
      "[ 25  75 125]\n",
      "[11. 13. 15. 17. 19.]\n",
      "[ 5. 15. 25.]\n",
      "27\n",
      "3\n",
      "15.0\n",
      "15.0\n"
     ]
    }
   ],
   "source": [
    "import numpy as np \n",
    "\n",
    "# axix를 이용한 sum, mean, median\n",
    "arr2 = np.arange(1,31,2).reshape(3,5)\n",
    "print(arr2)\n",
    "\"\"\"\n",
    "[[ 1  3  5  7  9]\n",
    " [11 13 15 17 19]\n",
    " [21 23 25 27 29]]\n",
    "\"\"\"\n",
    "\n",
    "# arr2 전체 item들의 합\n",
    "print(arr2.sum()) # 225\n",
    "\n",
    "# arr2를 행 기준으로 합\n",
    "print(arr2.sum(axis = 0)) # [33 39 45 51 57]\n",
    "\n",
    "# arr2를 열 기준으로 합\n",
    "print(arr2.sum(axis = 1)) # [ 25  75 125]\n",
    "\n",
    "# arr2를 행 기준으로 평균을 구함\n",
    "print(arr2.mean(axis = 0)) # [11. 13. 15. 17. 19.]\n",
    "\n",
    "# arr2를 열 기준으로 평균을 구함\n",
    "print(arr2.mean(axis = 1)) # [ 5. 15. 25.]\n",
    "\n",
    "\n",
    "# 1,4 번째 열을 제외한 부분의 행렬의 최대,최소,평균,중간 값을 구하시오\n",
    "print(np.max(arr[:,1:4])) # 27\n",
    "print(np.min(arr[:,1:4])) # 3\n",
    "print(np.mean(arr[:,1:4])) # 15.0\n",
    "print(np.median(arr[:,1:4])) # 15.0"
   ]
  },
  {
   "cell_type": "code",
   "execution_count": 103,
   "metadata": {},
   "outputs": [
    {
     "name": "stdout",
     "output_type": "stream",
     "text": [
      "[[1. 1. 1.]\n",
      " [1. 1. 1.]\n",
      " [1. 1. 1.]]\n",
      "[[3. 3.]\n",
      " [3. 3.]\n",
      " [3. 3.]]\n",
      "[[9. 9.]\n",
      " [9. 9.]\n",
      " [9. 9.]]\n",
      "[[9. 9.]\n",
      " [9. 9.]\n",
      " [9. 9.]]\n"
     ]
    }
   ],
   "source": [
    "# 행렬곱 \n",
    "\n",
    "import numpy as np\n",
    "\n",
    "# 행렬끼리 곱을 하려면 @ 혹은 dot함수를 사용하면 된다\n",
    "\n",
    "arr_1 = np.ones((3,3))\n",
    "print(arr_1)\n",
    "\n",
    "arr = np.ones((3,2))*3\n",
    "print(arr)\n",
    "\n",
    "print(arr_1@arr)\n",
    "\"\"\"\n",
    "[[9. 9.]\n",
    " [9. 9.]\n",
    " [9. 9.]]\n",
    "\"\"\"\n",
    "\n",
    "print(np.dot(arr_1,arr))\n",
    "\n",
    "\"\"\"\n",
    "[[9. 9.]\n",
    " [9. 9.]\n",
    " [9. 9.]]\n",
    "\"\"\"\n"
   ]
  },
  {
   "cell_type": "code",
   "execution_count": 108,
   "metadata": {},
   "outputs": [
    {
     "name": "stdout",
     "output_type": "stream",
     "text": [
      "[[ 8 12  2  1  4]\n",
      " [ 9 14 15 13  6]\n",
      " [ 7  3 11  5 10]]\n",
      "[[ 1  2  4  8 12]\n",
      " [ 6  9 13 14 15]\n",
      " [ 3  5  7 10 11]]\n",
      "[[ 7  3  2  1  4]\n",
      " [ 8 12 11  5  6]\n",
      " [ 9 14 15 13 10]]\n",
      "[[ 1  2  4  8 12]\n",
      " [ 6  9 13 14 15]\n",
      " [ 3  5  7 10 11]]\n"
     ]
    }
   ],
   "source": [
    "# numpy sort\n",
    "\n",
    "import numpy as np\n",
    "\n",
    "arr = np.arange(1,16)\n",
    "np.random.shuffle(arr)\n",
    "arr = arr.reshape(3,5)\n",
    "print(arr)\n",
    "\n",
    "\"\"\"\n",
    "[[ 8 12  2  1  4]\n",
    " [ 9 14 15 13  6]\n",
    " [ 7  3 11  5 10]]\n",
    "\"\"\"\n",
    "\n",
    "# array의 item들을 순서대로 sort해줌\n",
    "arr_sort = np.sort(arr)\n",
    "print(arr_sort)\n",
    "\"\"\"\n",
    "[[ 1  2  4  8 12]\n",
    " [ 6  9 13 14 15]\n",
    " [ 3  5  7 10 11]]\n",
    "\"\"\"\n",
    "\n",
    "# axis = 0 행기준으로 sort\n",
    "arr_sort2 = np.sort(arr, axis = 0)\n",
    "print(arr_sort2)\n",
    "\n",
    "\"\"\"\n",
    "[[ 7  3  2  1  4]\n",
    " [ 8 12 11  5  6]\n",
    " [ 9 14 15 13 10]]\n",
    "\"\"\"\n",
    "\n",
    "# axis = 1 열기준으로 sort\n",
    "arr_sort2 = np.sort(arr, axis = 1)\n",
    "print(arr_sort2)\n",
    "\n",
    "\"\"\"\n",
    "[[ 1  2  4  8 12]\n",
    " [ 6  9 13 14 15]\n",
    " [ 3  5  7 10 11]]\n",
    "\"\"\""
   ]
  },
  {
   "cell_type": "code",
   "execution_count": 109,
   "metadata": {},
   "outputs": [
    {
     "name": "stdout",
     "output_type": "stream",
     "text": [
      "[[ -3   9   8   1 -10]\n",
      " [  3   7   3  -1   1]]\n",
      "[-10  -3  -1   1   3   7   8   9]\n"
     ]
    }
   ],
   "source": [
    "import numpy as np\n",
    "\n",
    "# np.unique(array) : array의 값들을 정렬(중복 제거)하여 1차원으로 반환하는 함수\n",
    "\n",
    "arr = np.random.randint(-10,10,(2,5))\n",
    "print(arr)\n",
    "\"\"\"\n",
    "[[ -3   9   8   1 -10]\n",
    " [  3   7   3  -1   1]]\n",
    "\"\"\"\n",
    "\n",
    "print(np.unique(arr)) # [-10  -3  -1   1   3   7   8   9]"
   ]
  },
  {
   "cell_type": "code",
   "execution_count": null,
   "metadata": {},
   "outputs": [],
   "source": []
  }
 ],
 "metadata": {
  "kernelspec": {
   "display_name": "Python 3",
   "language": "python",
   "name": "python3"
  },
  "language_info": {
   "codemirror_mode": {
    "name": "ipython",
    "version": 3
   },
   "file_extension": ".py",
   "mimetype": "text/x-python",
   "name": "python",
   "nbconvert_exporter": "python",
   "pygments_lexer": "ipython3",
   "version": "3.7.6"
  }
 },
 "nbformat": 4,
 "nbformat_minor": 4
}
